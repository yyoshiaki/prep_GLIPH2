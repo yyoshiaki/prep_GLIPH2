{
 "metadata": {
  "language_info": {
   "codemirror_mode": {
    "name": "ipython",
    "version": 3
   },
   "file_extension": ".py",
   "mimetype": "text/x-python",
   "name": "python",
   "nbconvert_exporter": "python",
   "pygments_lexer": "ipython3",
   "version": "3.7.3-final"
  },
  "orig_nbformat": 2,
  "kernelspec": {
   "name": "python3",
   "display_name": "Python 3",
   "language": "python"
  }
 },
 "nbformat": 4,
 "nbformat_minor": 2,
 "cells": [
  {
   "cell_type": "code",
   "execution_count": 3,
   "metadata": {},
   "outputs": [],
   "source": [
    "import pandas as pd\n",
    "import os"
   ]
  },
  {
   "cell_type": "code",
   "execution_count": 37,
   "metadata": {},
   "outputs": [],
   "source": [
    "dir_mixcr = '../test'\n",
    "\n",
    "suffix = '.clonotypes.TRB.txt'"
   ]
  },
  {
   "cell_type": "code",
   "execution_count": 38,
   "metadata": {},
   "outputs": [],
   "source": [
    "list_files = [x for x in os.listdir(dir_mixcr) if x.endswith(suffix)]\n",
    "list_samples = [x.split(suffix)[0] for x in list_files]"
   ]
  },
  {
   "cell_type": "code",
   "execution_count": 48,
   "metadata": {},
   "outputs": [],
   "source": [
    "list_df = []\n",
    "for s,f in zip(list_samples, list_files):\n",
    "    df = pd.read_csv(dir_mixcr + '/' + f, sep='\\t')\n",
    "    df['TRBV'] = df['allVHitsWithScore'].str.split(',').str.get(0).str.split('*').str.get(0)\n",
    "    df['TRBJ'] = df['allJHitsWithScore'].str.split(',').str.get(0).str.split('*').str.get(0)\n",
    "    df['CDR3a'] = 'NA'\n",
    "    df['sub:cond'] = s + ':NA'\n",
    "\n",
    "    list_df.append(df[['aaSeqCDR3', 'TRBV', 'TRBJ', 'CDR3a', 'sub:cond', 'cloneCount']])\n",
    "\n",
    "df_merged = pd.concat(list_df)\n",
    "df_merged = df_merged.groupby(\n",
    "    by=['aaSeqCDR3', 'TRBV', 'TRBJ', 'CDR3a', 'sub:cond'], \n",
    "    as_index=False).sum().sort_values(by='sub:cond')"
   ]
  },
  {
   "cell_type": "code",
   "execution_count": 55,
   "metadata": {},
   "outputs": [
    {
     "output_type": "execute_result",
     "data": {
      "text/plain": [
       "            aaSeqCDR3      TRBV     TRBJ CDR3a    sub:cond  cloneCount\n",
       "0        CAASQGTDTQYF  TRBV10-3  TRBJ2-3    NA  sample1:NA         1.0\n",
       "929   CASSVVGGGNTEAFF     TRBV9  TRBJ1-1    NA  sample1:NA         1.0\n",
       "452   CASSLGQGAVEKLFF   TRBV5-5  TRBJ1-4    NA  sample1:NA         1.0\n",
       "453     CASSLGQGSPLHF   TRBV7-8  TRBJ1-6    NA  sample1:NA         2.0\n",
       "454    CASSLGQGTGELFF   TRBV7-6  TRBJ2-2    NA  sample1:NA         1.0\n",
       "...               ...       ...      ...   ...         ...         ...\n",
       "511   CASSLQGAGANVLTF    TRBV27  TRBJ2-6    NA  sample2:NA         1.0\n",
       "512    CASSLQGANEKLFF  TRBV12-4  TRBJ1-4    NA  sample2:NA         1.0\n",
       "513   CASSLQGSFDYEQYF    TRBV28  TRBJ2-7    NA  sample2:NA         2.0\n",
       "500      CASSLNTGELFF    TRBV19  TRBJ2-2    NA  sample2:NA         1.0\n",
       "1195  RASSLRRGAYNEQFF   TRBV7-3  TRBJ2-1    NA  sample2:NA         2.0\n",
       "\n",
       "[1196 rows x 6 columns]"
      ],
      "text/html": "<div>\n<style scoped>\n    .dataframe tbody tr th:only-of-type {\n        vertical-align: middle;\n    }\n\n    .dataframe tbody tr th {\n        vertical-align: top;\n    }\n\n    .dataframe thead th {\n        text-align: right;\n    }\n</style>\n<table border=\"1\" class=\"dataframe\">\n  <thead>\n    <tr style=\"text-align: right;\">\n      <th></th>\n      <th>aaSeqCDR3</th>\n      <th>TRBV</th>\n      <th>TRBJ</th>\n      <th>CDR3a</th>\n      <th>sub:cond</th>\n      <th>cloneCount</th>\n    </tr>\n  </thead>\n  <tbody>\n    <tr>\n      <th>0</th>\n      <td>CAASQGTDTQYF</td>\n      <td>TRBV10-3</td>\n      <td>TRBJ2-3</td>\n      <td>NA</td>\n      <td>sample1:NA</td>\n      <td>1.0</td>\n    </tr>\n    <tr>\n      <th>929</th>\n      <td>CASSVVGGGNTEAFF</td>\n      <td>TRBV9</td>\n      <td>TRBJ1-1</td>\n      <td>NA</td>\n      <td>sample1:NA</td>\n      <td>1.0</td>\n    </tr>\n    <tr>\n      <th>452</th>\n      <td>CASSLGQGAVEKLFF</td>\n      <td>TRBV5-5</td>\n      <td>TRBJ1-4</td>\n      <td>NA</td>\n      <td>sample1:NA</td>\n      <td>1.0</td>\n    </tr>\n    <tr>\n      <th>453</th>\n      <td>CASSLGQGSPLHF</td>\n      <td>TRBV7-8</td>\n      <td>TRBJ1-6</td>\n      <td>NA</td>\n      <td>sample1:NA</td>\n      <td>2.0</td>\n    </tr>\n    <tr>\n      <th>454</th>\n      <td>CASSLGQGTGELFF</td>\n      <td>TRBV7-6</td>\n      <td>TRBJ2-2</td>\n      <td>NA</td>\n      <td>sample1:NA</td>\n      <td>1.0</td>\n    </tr>\n    <tr>\n      <th>...</th>\n      <td>...</td>\n      <td>...</td>\n      <td>...</td>\n      <td>...</td>\n      <td>...</td>\n      <td>...</td>\n    </tr>\n    <tr>\n      <th>511</th>\n      <td>CASSLQGAGANVLTF</td>\n      <td>TRBV27</td>\n      <td>TRBJ2-6</td>\n      <td>NA</td>\n      <td>sample2:NA</td>\n      <td>1.0</td>\n    </tr>\n    <tr>\n      <th>512</th>\n      <td>CASSLQGANEKLFF</td>\n      <td>TRBV12-4</td>\n      <td>TRBJ1-4</td>\n      <td>NA</td>\n      <td>sample2:NA</td>\n      <td>1.0</td>\n    </tr>\n    <tr>\n      <th>513</th>\n      <td>CASSLQGSFDYEQYF</td>\n      <td>TRBV28</td>\n      <td>TRBJ2-7</td>\n      <td>NA</td>\n      <td>sample2:NA</td>\n      <td>2.0</td>\n    </tr>\n    <tr>\n      <th>500</th>\n      <td>CASSLNTGELFF</td>\n      <td>TRBV19</td>\n      <td>TRBJ2-2</td>\n      <td>NA</td>\n      <td>sample2:NA</td>\n      <td>1.0</td>\n    </tr>\n    <tr>\n      <th>1195</th>\n      <td>RASSLRRGAYNEQFF</td>\n      <td>TRBV7-3</td>\n      <td>TRBJ2-1</td>\n      <td>NA</td>\n      <td>sample2:NA</td>\n      <td>2.0</td>\n    </tr>\n  </tbody>\n</table>\n<p>1196 rows × 6 columns</p>\n</div>"
     },
     "metadata": {},
     "execution_count": 55
    }
   ],
   "source": [
    "df_merged.groupby(by=['aaSeqCDR3', 'TRBV', 'TRBJ', 'CDR3a', 'sub:cond'], as_index=False).sum().sort_values(by='sub:cond')"
   ]
  },
  {
   "cell_type": "code",
   "execution_count": 41,
   "metadata": {},
   "outputs": [
    {
     "output_type": "execute_result",
     "data": {
      "text/plain": [
       "Index(['cloneId', 'cloneCount', 'cloneFraction', 'targetSequences',\n",
       "       'targetQualities', 'allVHitsWithScore', 'allDHitsWithScore',\n",
       "       'allJHitsWithScore', 'allCHitsWithScore', 'allVAlignments',\n",
       "       'allDAlignments', 'allJAlignments', 'allCAlignments', 'nSeqFR1',\n",
       "       'minQualFR1', 'nSeqCDR1', 'minQualCDR1', 'nSeqFR2', 'minQualFR2',\n",
       "       'nSeqCDR2', 'minQualCDR2', 'nSeqFR3', 'minQualFR3', 'nSeqCDR3',\n",
       "       'minQualCDR3', 'nSeqFR4', 'minQualFR4', 'aaSeqFR1', 'aaSeqCDR1',\n",
       "       'aaSeqFR2', 'aaSeqCDR2', 'aaSeqFR3', 'aaSeqCDR3', 'aaSeqFR4',\n",
       "       'refPoints'],\n",
       "      dtype='object')"
      ]
     },
     "metadata": {},
     "execution_count": 41
    }
   ],
   "source": [
    "df.columns"
   ]
  },
  {
   "cell_type": "code",
   "execution_count": 45,
   "metadata": {},
   "outputs": [],
   "source": [
    "df['TRBV'] = df['allVHitsWithScore'].str.split(',').str.get(0).str.split('*').str.get(0)\n",
    "df['TRBJ'] = df['allJHitsWithScore'].str.split(',').str.get(0).str.split('*').str.get(0)\n",
    "df['CDR3a'] = 'NA'\n",
    "df['sub:cond'] = s + ':NA'\n",
    "\n",
    "df[['aaSeqCDR3', 'TRBV', 'TRBJ', 'CDR3a', 'sub:cond', 'cloneCount']]"
   ]
  },
  {
   "cell_type": "code",
   "execution_count": 46,
   "metadata": {},
   "outputs": [
    {
     "output_type": "execute_result",
     "data": {
      "text/plain": [
       "'sample2'"
      ]
     },
     "metadata": {},
     "execution_count": 46
    }
   ],
   "source": [
    "s"
   ]
  },
  {
   "cell_type": "code",
   "execution_count": 47,
   "metadata": {},
   "outputs": [
    {
     "output_type": "execute_result",
     "data": {
      "text/plain": [
       "             aaSeqCDR3      TRBV     TRBJ CDR3a    sub:cond  cloneCount\n",
       "0       CASSYSNNSNEQFF   TRBV6-2  TRBJ2-1    NA  sample2:NA         5.0\n",
       "1       CASSVGTANTEAFF     TRBV9  TRBJ1-1    NA  sample2:NA         5.0\n",
       "2    CASSLGGLDSPNQPQHF  TRBV12-3  TRBJ1-5    NA  sample2:NA         4.0\n",
       "3      CASSFGLAPYNEQFF     TRBV2  TRBJ2-1    NA  sample2:NA         4.0\n",
       "4       CASSLEAGSYEQYF  TRBV11-2  TRBJ2-7    NA  sample2:NA         4.0\n",
       "..                 ...       ...      ...   ...         ...         ...\n",
       "685          CSEGAGYTF  TRBV20-1  TRBJ1-2    NA  sample2:NA         1.0\n",
       "686          CSVGGKAFF  TRBV29-1  TRBJ1-1    NA  sample2:NA         1.0\n",
       "687           CASSEAFF     TRBV2  TRBJ1-1    NA  sample2:NA         1.0\n",
       "688           CSATSAFF  TRBV20-1  TRBJ1-1    NA  sample2:NA         1.0\n",
       "689           CSDNEQFF  TRBV20-1  TRBJ2-1    NA  sample2:NA         1.0\n",
       "\n",
       "[690 rows x 6 columns]"
      ],
      "text/html": "<div>\n<style scoped>\n    .dataframe tbody tr th:only-of-type {\n        vertical-align: middle;\n    }\n\n    .dataframe tbody tr th {\n        vertical-align: top;\n    }\n\n    .dataframe thead th {\n        text-align: right;\n    }\n</style>\n<table border=\"1\" class=\"dataframe\">\n  <thead>\n    <tr style=\"text-align: right;\">\n      <th></th>\n      <th>aaSeqCDR3</th>\n      <th>TRBV</th>\n      <th>TRBJ</th>\n      <th>CDR3a</th>\n      <th>sub:cond</th>\n      <th>cloneCount</th>\n    </tr>\n  </thead>\n  <tbody>\n    <tr>\n      <th>0</th>\n      <td>CASSYSNNSNEQFF</td>\n      <td>TRBV6-2</td>\n      <td>TRBJ2-1</td>\n      <td>NA</td>\n      <td>sample2:NA</td>\n      <td>5.0</td>\n    </tr>\n    <tr>\n      <th>1</th>\n      <td>CASSVGTANTEAFF</td>\n      <td>TRBV9</td>\n      <td>TRBJ1-1</td>\n      <td>NA</td>\n      <td>sample2:NA</td>\n      <td>5.0</td>\n    </tr>\n    <tr>\n      <th>2</th>\n      <td>CASSLGGLDSPNQPQHF</td>\n      <td>TRBV12-3</td>\n      <td>TRBJ1-5</td>\n      <td>NA</td>\n      <td>sample2:NA</td>\n      <td>4.0</td>\n    </tr>\n    <tr>\n      <th>3</th>\n      <td>CASSFGLAPYNEQFF</td>\n      <td>TRBV2</td>\n      <td>TRBJ2-1</td>\n      <td>NA</td>\n      <td>sample2:NA</td>\n      <td>4.0</td>\n    </tr>\n    <tr>\n      <th>4</th>\n      <td>CASSLEAGSYEQYF</td>\n      <td>TRBV11-2</td>\n      <td>TRBJ2-7</td>\n      <td>NA</td>\n      <td>sample2:NA</td>\n      <td>4.0</td>\n    </tr>\n    <tr>\n      <th>...</th>\n      <td>...</td>\n      <td>...</td>\n      <td>...</td>\n      <td>...</td>\n      <td>...</td>\n      <td>...</td>\n    </tr>\n    <tr>\n      <th>685</th>\n      <td>CSEGAGYTF</td>\n      <td>TRBV20-1</td>\n      <td>TRBJ1-2</td>\n      <td>NA</td>\n      <td>sample2:NA</td>\n      <td>1.0</td>\n    </tr>\n    <tr>\n      <th>686</th>\n      <td>CSVGGKAFF</td>\n      <td>TRBV29-1</td>\n      <td>TRBJ1-1</td>\n      <td>NA</td>\n      <td>sample2:NA</td>\n      <td>1.0</td>\n    </tr>\n    <tr>\n      <th>687</th>\n      <td>CASSEAFF</td>\n      <td>TRBV2</td>\n      <td>TRBJ1-1</td>\n      <td>NA</td>\n      <td>sample2:NA</td>\n      <td>1.0</td>\n    </tr>\n    <tr>\n      <th>688</th>\n      <td>CSATSAFF</td>\n      <td>TRBV20-1</td>\n      <td>TRBJ1-1</td>\n      <td>NA</td>\n      <td>sample2:NA</td>\n      <td>1.0</td>\n    </tr>\n    <tr>\n      <th>689</th>\n      <td>CSDNEQFF</td>\n      <td>TRBV20-1</td>\n      <td>TRBJ2-1</td>\n      <td>NA</td>\n      <td>sample2:NA</td>\n      <td>1.0</td>\n    </tr>\n  </tbody>\n</table>\n<p>690 rows × 6 columns</p>\n</div>"
     },
     "metadata": {},
     "execution_count": 47
    }
   ],
   "source": [
    "df[['aaSeqCDR3', 'TRBV', 'TRBJ', 'CDR3a', 'sub:cond', 'cloneCount']]"
   ]
  },
  {
   "cell_type": "code",
   "execution_count": null,
   "metadata": {},
   "outputs": [],
   "source": []
  }
 ]
}